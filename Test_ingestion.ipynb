{
 "cells": [
  {
   "cell_type": "code",
   "execution_count": 1,
   "metadata": {},
   "outputs": [],
   "source": [
    "import pandas as pd"
   ]
  },
  {
   "cell_type": "code",
   "execution_count": 4,
   "metadata": {},
   "outputs": [],
   "source": [
    "dataset_url = \"https://data.gharchive.org/2024-03-27-1.json.gz\"\n",
    "read = pd.read_json(dataset_url, lines=True, storage_options={'User-Agent': 'pandas'}, compression=\"gzip\")"
   ]
  },
  {
   "cell_type": "code",
   "execution_count": 5,
   "metadata": {},
   "outputs": [
    {
     "name": "stdout",
     "output_type": "stream",
     "text": [
      "<class 'pandas.core.frame.DataFrame'>\n",
      "Index: 212102 entries, 0 to 212101\n",
      "Data columns (total 8 columns):\n",
      " #   Column      Non-Null Count   Dtype              \n",
      "---  ------      --------------   -----              \n",
      " 0   id          212102 non-null  int64              \n",
      " 1   type        212102 non-null  object             \n",
      " 2   actor       212102 non-null  object             \n",
      " 3   repo        212102 non-null  object             \n",
      " 4   payload     212102 non-null  object             \n",
      " 5   public      212102 non-null  bool               \n",
      " 6   created_at  212102 non-null  datetime64[ns, UTC]\n",
      " 7   org         40249 non-null   object             \n",
      "dtypes: bool(1), datetime64[ns, UTC](1), int64(1), object(5)\n",
      "memory usage: 13.1+ MB\n"
     ]
    }
   ],
   "source": [
    "read.info()"
   ]
  },
  {
   "cell_type": "code",
   "execution_count": 8,
   "metadata": {},
   "outputs": [],
   "source": [
    "read[\"created_at\"] = pd.to_datetime(read[\"created_at\"])\n",
    "read[\"id\"] = read[\"id\"].astype(\"Int64\")\n",
    "read[\"type\"] = read[\"type\"].astype(\"string\")"
   ]
  },
  {
   "cell_type": "code",
   "execution_count": 9,
   "metadata": {},
   "outputs": [
    {
     "name": "stdout",
     "output_type": "stream",
     "text": [
      "<class 'pandas.core.frame.DataFrame'>\n",
      "Index: 212102 entries, 0 to 212101\n",
      "Data columns (total 8 columns):\n",
      " #   Column      Non-Null Count   Dtype              \n",
      "---  ------      --------------   -----              \n",
      " 0   id          212102 non-null  Int64              \n",
      " 1   type        212102 non-null  string             \n",
      " 2   actor       212102 non-null  object             \n",
      " 3   repo        212102 non-null  object             \n",
      " 4   payload     212102 non-null  object             \n",
      " 5   public      212102 non-null  bool               \n",
      " 6   created_at  212102 non-null  datetime64[ns, UTC]\n",
      " 7   org         40249 non-null   object             \n",
      "dtypes: Int64(1), bool(1), datetime64[ns, UTC](1), object(4), string(1)\n",
      "memory usage: 13.4+ MB\n"
     ]
    }
   ],
   "source": [
    "read.info()"
   ]
  },
  {
   "cell_type": "code",
   "execution_count": 10,
   "metadata": {},
   "outputs": [
    {
     "data": {
      "text/html": [
       "<div>\n",
       "<style scoped>\n",
       "    .dataframe tbody tr th:only-of-type {\n",
       "        vertical-align: middle;\n",
       "    }\n",
       "\n",
       "    .dataframe tbody tr th {\n",
       "        vertical-align: top;\n",
       "    }\n",
       "\n",
       "    .dataframe thead th {\n",
       "        text-align: right;\n",
       "    }\n",
       "</style>\n",
       "<table border=\"1\" class=\"dataframe\">\n",
       "  <thead>\n",
       "    <tr style=\"text-align: right;\">\n",
       "      <th></th>\n",
       "      <th>id</th>\n",
       "      <th>type</th>\n",
       "      <th>actor</th>\n",
       "      <th>repo</th>\n",
       "      <th>payload</th>\n",
       "      <th>public</th>\n",
       "      <th>created_at</th>\n",
       "      <th>org</th>\n",
       "    </tr>\n",
       "  </thead>\n",
       "  <tbody>\n",
       "    <tr>\n",
       "      <th>0</th>\n",
       "      <td>36912652111</td>\n",
       "      <td>PullRequestEvent</td>\n",
       "      <td>{'id': 49699333, 'login': 'dependabot[bot]', '...</td>\n",
       "      <td>{'id': 744868429, 'name': 'Log1x/laravel-webfo...</td>\n",
       "      <td>{'action': 'opened', 'number': 36, 'pull_reque...</td>\n",
       "      <td>True</td>\n",
       "      <td>2024-03-27 01:00:00+00:00</td>\n",
       "      <td>NaN</td>\n",
       "    </tr>\n",
       "    <tr>\n",
       "      <th>1</th>\n",
       "      <td>36912652113</td>\n",
       "      <td>CreateEvent</td>\n",
       "      <td>{'id': 148569333, 'login': 'annethsivakumar', ...</td>\n",
       "      <td>{'id': 778042792, 'name': 'annethsivakumar/Wor...</td>\n",
       "      <td>{'ref': None, 'ref_type': 'repository', 'maste...</td>\n",
       "      <td>True</td>\n",
       "      <td>2024-03-27 01:00:00+00:00</td>\n",
       "      <td>NaN</td>\n",
       "    </tr>\n",
       "    <tr>\n",
       "      <th>2</th>\n",
       "      <td>36912652117</td>\n",
       "      <td>PushEvent</td>\n",
       "      <td>{'id': 41898282, 'login': 'github-actions[bot]...</td>\n",
       "      <td>{'id': 533092037, 'name': 'sebastiansouza/seba...</td>\n",
       "      <td>{'repository_id': 533092037, 'push_id': 177201...</td>\n",
       "      <td>True</td>\n",
       "      <td>2024-03-27 01:00:00+00:00</td>\n",
       "      <td>NaN</td>\n",
       "    </tr>\n",
       "    <tr>\n",
       "      <th>3</th>\n",
       "      <td>36912652126</td>\n",
       "      <td>IssueCommentEvent</td>\n",
       "      <td>{'id': 35613825, 'login': 'vercel[bot]', 'disp...</td>\n",
       "      <td>{'id': 650010763, 'name': 'bambanah/stardew-ch...</td>\n",
       "      <td>{'action': 'created', 'issue': {'url': 'https:...</td>\n",
       "      <td>True</td>\n",
       "      <td>2024-03-27 01:00:00+00:00</td>\n",
       "      <td>NaN</td>\n",
       "    </tr>\n",
       "    <tr>\n",
       "      <th>4</th>\n",
       "      <td>36912652135</td>\n",
       "      <td>PushEvent</td>\n",
       "      <td>{'id': 161315295, 'login': 'Ji-113', 'display_...</td>\n",
       "      <td>{'id': 778028725, 'name': 'Ji-113/form', 'url'...</td>\n",
       "      <td>{'repository_id': 778028725, 'push_id': 177201...</td>\n",
       "      <td>True</td>\n",
       "      <td>2024-03-27 01:00:00+00:00</td>\n",
       "      <td>NaN</td>\n",
       "    </tr>\n",
       "  </tbody>\n",
       "</table>\n",
       "</div>"
      ],
      "text/plain": [
       "            id               type  \\\n",
       "0  36912652111   PullRequestEvent   \n",
       "1  36912652113        CreateEvent   \n",
       "2  36912652117          PushEvent   \n",
       "3  36912652126  IssueCommentEvent   \n",
       "4  36912652135          PushEvent   \n",
       "\n",
       "                                               actor  \\\n",
       "0  {'id': 49699333, 'login': 'dependabot[bot]', '...   \n",
       "1  {'id': 148569333, 'login': 'annethsivakumar', ...   \n",
       "2  {'id': 41898282, 'login': 'github-actions[bot]...   \n",
       "3  {'id': 35613825, 'login': 'vercel[bot]', 'disp...   \n",
       "4  {'id': 161315295, 'login': 'Ji-113', 'display_...   \n",
       "\n",
       "                                                repo  \\\n",
       "0  {'id': 744868429, 'name': 'Log1x/laravel-webfo...   \n",
       "1  {'id': 778042792, 'name': 'annethsivakumar/Wor...   \n",
       "2  {'id': 533092037, 'name': 'sebastiansouza/seba...   \n",
       "3  {'id': 650010763, 'name': 'bambanah/stardew-ch...   \n",
       "4  {'id': 778028725, 'name': 'Ji-113/form', 'url'...   \n",
       "\n",
       "                                             payload  public  \\\n",
       "0  {'action': 'opened', 'number': 36, 'pull_reque...    True   \n",
       "1  {'ref': None, 'ref_type': 'repository', 'maste...    True   \n",
       "2  {'repository_id': 533092037, 'push_id': 177201...    True   \n",
       "3  {'action': 'created', 'issue': {'url': 'https:...    True   \n",
       "4  {'repository_id': 778028725, 'push_id': 177201...    True   \n",
       "\n",
       "                 created_at  org  \n",
       "0 2024-03-27 01:00:00+00:00  NaN  \n",
       "1 2024-03-27 01:00:00+00:00  NaN  \n",
       "2 2024-03-27 01:00:00+00:00  NaN  \n",
       "3 2024-03-27 01:00:00+00:00  NaN  \n",
       "4 2024-03-27 01:00:00+00:00  NaN  "
      ]
     },
     "execution_count": 10,
     "metadata": {},
     "output_type": "execute_result"
    }
   ],
   "source": [
    "read.head()"
   ]
  },
  {
   "cell_type": "code",
   "execution_count": 11,
   "metadata": {},
   "outputs": [
    {
     "data": {
      "text/plain": [
       "{'id': 49699333,\n",
       " 'login': 'dependabot[bot]',\n",
       " 'display_login': 'dependabot',\n",
       " 'gravatar_id': '',\n",
       " 'url': 'https://api.github.com/users/dependabot[bot]',\n",
       " 'avatar_url': 'https://avatars.githubusercontent.com/u/49699333?'}"
      ]
     },
     "execution_count": 11,
     "metadata": {},
     "output_type": "execute_result"
    }
   ],
   "source": [
    "read[\"actor\"][0]"
   ]
  },
  {
   "cell_type": "code",
   "execution_count": 13,
   "metadata": {},
   "outputs": [
    {
     "data": {
      "text/plain": [
       "{'id': 744868429,\n",
       " 'name': 'Log1x/laravel-webfonts',\n",
       " 'url': 'https://api.github.com/repos/Log1x/laravel-webfonts'}"
      ]
     },
     "execution_count": 13,
     "metadata": {},
     "output_type": "execute_result"
    }
   ],
   "source": [
    "read[\"repo\"][0]"
   ]
  },
  {
   "cell_type": "code",
   "execution_count": 14,
   "metadata": {},
   "outputs": [
    {
     "data": {
      "text/plain": [
       "{'repository_id': 533092037,\n",
       " 'push_id': 17720169375,\n",
       " 'size': 1,\n",
       " 'distinct_size': 1,\n",
       " 'ref': 'refs/heads/output',\n",
       " 'head': '8675616458582706811358752bea6968041350c7',\n",
       " 'before': '8b848ed8f523f2e408fb6d5ff1b443931029cff7',\n",
       " 'commits': [{'sha': '8675616458582706811358752bea6968041350c7',\n",
       "   'author': {'email': '41898282+github-actions[bot]@users.noreply.github.com',\n",
       "    'name': 'github-actions[bot]'},\n",
       "   'message': 'Deploy to GitHub pages',\n",
       "   'distinct': True,\n",
       "   'url': 'https://api.github.com/repos/sebastiansouza/sebastiansouza/commits/8675616458582706811358752bea6968041350c7'}]}"
      ]
     },
     "execution_count": 14,
     "metadata": {},
     "output_type": "execute_result"
    }
   ],
   "source": [
    "read[\"payload\"][2]"
   ]
  }
 ],
 "metadata": {
  "kernelspec": {
   "display_name": "base",
   "language": "python",
   "name": "python3"
  },
  "language_info": {
   "codemirror_mode": {
    "name": "ipython",
    "version": 3
   },
   "file_extension": ".py",
   "mimetype": "text/x-python",
   "name": "python",
   "nbconvert_exporter": "python",
   "pygments_lexer": "ipython3",
   "version": "3.10.10"
  }
 },
 "nbformat": 4,
 "nbformat_minor": 2
}
